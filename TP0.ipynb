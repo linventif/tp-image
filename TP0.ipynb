{
 "cells": [
  {
   "cell_type": "markdown",
   "id": "9e406e4a-765b-40e3-90f1-1245483c1a15",
   "metadata": {},
   "source": [
    "# TP0 : Initiation à Python pour l'image\n",
    "\n",
    "Pour la mise en pratique, nous utiliserons le langage Python qui permet une écriture aisée de la gestion d’images numériques, en s’appuyant sur les opérations très utiles des modules complémentaires comme **Numpy** et **Matplotlib**, que vous connaissez déjà, ainsi que **OpenCV**.\n",
    "\n",
    "Dans ce premier TP, vous n'avez (presque) rien à coder jusqu'à la section **3.4**. Parcourez les différentes cellules contenant les fonctions de base des modules **OpenCV**, **Numpy** et **Matplotlib**.\n",
    "\n",
    "Les exercices de **3.5** et **3.6** sont une introduction à la manipulation des tableaux Numpy dans le cadre du traitement d'images en niveaux de gris et en couleur."
   ]
  },
  {
   "cell_type": "markdown",
   "id": "926a13f3-3e2d-4ae3-80d5-3efd96d2ab99",
   "metadata": {},
   "source": [
    "## 1 Révision de Numpy"
   ]
  },
  {
   "cell_type": "markdown",
   "id": "eafc00c9-5a2d-4f65-834a-1e72ed151000",
   "metadata": {},
   "source": [
    "Comme vous avez vu dans la ressource de *Modélisation Mathématique*, Numpy est une bibliothèque pour Python spécialisée dans la manipulation des tableaux (array), pour nous essentiellement les vecteurs et les matrices.\n",
    "Les tableaux “numpy” ne gère que les objets de même type.\n",
    "Nous ne ferons pas ici une description détaillée de cette bibliothèque, mais nous allons illustrer sur un exemple les fonctions principales dont nous aurons besoin dans les TPs."
   ]
  },
  {
   "cell_type": "code",
   "execution_count": null,
   "id": "b3ca252d-85c3-4898-a8d0-589898ca622d",
   "metadata": {},
   "outputs": [],
   "source": [
    "import numpy as np # np sera l’alias utilisé pour accéder aux fonctions de la bibliothèque numpy"
   ]
  },
  {
   "cell_type": "code",
   "execution_count": null,
   "id": "158e85dc-2f6b-4e2c-96bc-14dd44f5fc00",
   "metadata": {},
   "outputs": [],
   "source": [
    "# Création manuelle de la matrice de dimension 3 x 2\n",
    "# | 1.2 2.5 |\n",
    "# | 3.2 1.8 |\n",
    "# | 1.1 4.3 |\n",
    "a = np.array ([[1.2 ,2.5] ,[3.2 ,1.8] ,[1.1 ,4.3]]) # Noter le rôle des [[ ]] pour délimiter les lignes de la matrice"
   ]
  },
  {
   "cell_type": "code",
   "execution_count": null,
   "id": "62268918-c596-415b-bfc5-cc62178a20ab",
   "metadata": {},
   "outputs": [],
   "source": [
    "# Informations sur la structure :\n",
    "\n",
    "# type de la structure\n",
    "print ( type ( a ) ) # < class 'numpy.ndarray'>\n",
    "\n",
    "# type des données\n",
    "print ( a.dtype ) # float64\n",
    "\n",
    "# nombre de dimensions\n",
    "print ( a.ndim ) # 2 ( car c’est une matrice )\n",
    "\n",
    "# nombre de lignes et colonnes, shape renvoie un tuple\n",
    "print ( a.shape ) # (3 ,2) car 3 lignes et 2 colonnes\n",
    "\n",
    "# nombre total de valeurs\n",
    "print ( a.size ) # 6 , nb.lignes x nb.colonnes\n",
    "\n",
    "# Affichage d’une matrice dans la console\n",
    "print ( a )"
   ]
  },
  {
   "cell_type": "code",
   "execution_count": null,
   "id": "51e542e0-91d4-4254-a313-12c1ddbe27ff",
   "metadata": {},
   "outputs": [],
   "source": [
    "# Typage :\n",
    "\n",
    "# création et typage implicite\n",
    "a = np.array ([[1 ,2] ,[4 ,7]])\n",
    "print ( a.dtype ) # int32\n",
    "\n",
    "# création et typage explicite\n",
    "a = np.array ([[1 ,2] ,[4 ,7]] , dtype = float )\n",
    "print ( a.dtype ) # float64"
   ]
  },
  {
   "cell_type": "code",
   "execution_count": null,
   "id": "3992ee0a-e620-4d5d-96b3-617d27f101e9",
   "metadata": {},
   "outputs": [],
   "source": [
    "# Création d’une matrice à partir d’une séquence de valeurs :\n",
    "\n",
    "# création à partir d'une séquence\n",
    "# Attention : les dimensions doivent être compatibles\n",
    "a = np.arange(0,10).reshape(2,5) # arange() génère une séquence de valeurs, 0 à 9 ; reshape() se charge de les réorganiser \n",
    "# en une matrice de 2 lignes et de 5 colonnes.\n",
    "\n",
    "# matrices de valeurs identiques\n",
    "# ex. pour une initialisation avec des 0\n",
    "a = np.zeros( shape =(2,4) )\n",
    "\n",
    "# Redimensionnement :\n",
    "# matrice de valeurs\n",
    "a = np.array ([[1.2 ,2.5] ,[3.2 ,1.8] ,[1.1 ,4.3]])\n",
    "\n",
    "# ajouter une ligne - fonctionne pour la concaténation de matrices\n",
    "b = np.array ([[4.1 ,2.6]])\n",
    "c = np.append (a ,b , axis =0)\n",
    "print( c )\n",
    "\n",
    "# ajouter une colonne\n",
    "d = np.array ([[7.8] ,[6.1] ,[5.4]])\n",
    "print ( np.append (a ,d , axis =1) )\n",
    "\n",
    "# insertion\n",
    "print ( np.insert (a ,1 ,b , axis =0) )\n",
    "\n",
    "# suppression\n",
    "print ( np.delete (a ,1 , axis =0) )\n",
    "\n",
    "# modifier la dimension d’une matrice existante\n",
    "# parcours les données lignes par ligne\n",
    "h = np.resize (a , new_shape=(2 ,3) )\n",
    "print (h)"
   ]
  },
  {
   "cell_type": "code",
   "execution_count": null,
   "id": "b260f229-9f42-4562-befb-2563e514ffbd",
   "metadata": {},
   "outputs": [],
   "source": [
    "# Extraction de valeurs ( accès indicé )\n",
    "v = np.array([[1.2 ,2.5] ,[3.2 ,1.8] ,[1.1 ,4.3]])\n",
    "# affichage de la structure dans son ensemble\n",
    "print ( v )\n",
    "# accès indicé - première valeur\n",
    "print ( v[0 ,0]) # 1.2\n",
    "# dernière valeur - noter l’utilisation de shape ( qui est un tuple )\n",
    "print ( v[ v.shape[0] -1 , v.shape[1] -1]) # 4.3\n",
    "# autre solution pour affichage de toutes les valeurs , notez le rôle des :\n",
    "print ( v[: ,:])\n",
    "# plage d’indices contigus : lignes 0 à 1 (2 non inclus), toutes les colonnes\n",
    "print ( v[0:2 ,:])\n",
    "# extrêmes, début à 2 ( non-inclus )\n",
    "print ( v[:2 ,:])\n",
    "# extrêmes, lignes 1 à dernière\n",
    "print (v[1: ,:])\n",
    "# indice négatif - dernière ligne et toutes les colonnes\n",
    "print ( v[-1 ,:])\n",
    "# indices négatifs - deux dernières lignes et toutes les colonnes\n",
    "print ( v[-2: ,:])"
   ]
  },
  {
   "cell_type": "code",
   "execution_count": null,
   "id": "59b7b335-9877-4469-a5d1-9179c86a5dde",
   "metadata": {},
   "outputs": [],
   "source": [
    "# Parcours d’une matrice\n",
    "s = 0.0\n",
    "for i in range (0 , v.shape [0]) :\n",
    "    for j in range (0 , v.shape [1]) :\n",
    "      print ( v [i , j ])\n",
    "      s = s + v [i , j ]\n",
    "print ( \" Somme = \" ,s )"
   ]
  },
  {
   "cell_type": "code",
   "execution_count": null,
   "id": "d5234e55-423f-4c60-85ba-8d0ef38ddd32",
   "metadata": {},
   "outputs": [],
   "source": [
    "# Calcul matriciel\n",
    "x = np.array ([[1.2 ,2.5] ,[3.2 ,1.8] ,[1.1 ,4.3]]) # matrice de dimension 3 x 2\n",
    "y = np.array ([[2.1 ,0.8] ,[1.3 ,2.5]]) # matrice de dimension 2 x 2\n",
    "# transposition\n",
    "print ( np.transpose(x) ) # 2 x 3\n",
    "# multiplication\n",
    "print ( np.dot(x,y) ) # 3 x 2\n",
    "# déterminant\n",
    "print ( np.linalg.det( y ) ) # 4.21\n",
    "# inversion\n",
    "print ( np.linalg.inv( y ) ) # 2 x 2 (rappel : seulement les matrices carrées dont le déterminant est non nul sont invertibles)"
   ]
  },
  {
   "cell_type": "markdown",
   "id": "11c1d1e0-a196-4b39-8385-893a3fe60166",
   "metadata": {},
   "source": [
    "## 2 Révision de Matplotlib"
   ]
  },
  {
   "cell_type": "markdown",
   "id": "445b0991-01a1-42f5-8027-52d37b829103",
   "metadata": {},
   "source": [
    "_Matplotlib_ est une librairie qui permet de tracer des graphes (dans le sens graphiques) :\n",
    "* inspiré de _Matlab_ au départ,\n",
    "* inclus 2 façons de l’utiliser :\n",
    "    1. soit avec une approche objet : plus compliquée et plus verbeuse, mais plus évoluée,\n",
    "    2. soit via des appels de fonctions, avec _pyplot_ : plus simple. _pyplot_ fournit ainsi des raccourcis qui évitent la formulation objet plus longue à écrire,\n",
    "* permet de faire des graphes qui peuvent être complètement adaptés si besoin. Sur une figure, on peut tracer plusieurs graphes,\n",
    "* permet aussi de dessiner.\n",
    "\n",
    "_Matplotlib_ rend ainsi possible la création de graphes à l’intérieur d’applications complexes autorisées par le langage _python_, et ceci sans quitter le langage _python_.\n",
    "\n",
    "Notions principales pour les graphes sous matplotlib :\n",
    "* _figure_ : une figure qui peut être sauvée dans un fichier\n",
    "* _axe_ : un graphe (graphique) individuel appartenant à une figure qui peut en compter plusieurs. Attention, ce n’est pas un axe de coordonnées !\n",
    "* _axis_ : un axe de coordonnées appartenant à un objet _axe_\n",
    "\n",
    "On utilisera principalement le sous-module _pyplot_, qui sert à tracer des courbes. On l’importera comme suit :\n",
    "\n",
    "_import_ _matplotlib.pyplot_ _as_ _plt_"
   ]
  },
  {
   "cell_type": "markdown",
   "id": "46c67ecc-aed7-4b25-ae9c-6ec00bb51dd0",
   "metadata": {},
   "source": [
    "## Options _Pyplot_\n",
    "\n",
    "* _plt.figure(’titre’)_ : crée une nouvelle fenêtre de tracé (vide).\n",
    "* _plt.plot(X,Y)_ : relie les points ($x_i$,$y_i$) par lignes brisées, les deux listes (ou tableaux _Numpy_) X et Y doivent avoir même taille. On peut préciser en option :\n",
    "    + la couleur : b, g, r, c, m, y et k pour blue, green, red, cyan, magenta, yellow et black.\n",
    "    + le style du tracé : - pour un trait plein, – pour des pointillés, -. pour une ligne en pointillés qui alterne avec des petits points, etc ...\n",
    "    + les marques sur les points(x,y) : _o_ pour un cercle, _v_ pour un triangle vers le bas, _*_ pour une étoile, _x_ pour une croix, etc ...\n",
    "\n",
    "On peut également préciser une étiquette (label). Par exemple, _plt.plot(X,Y,’y--x’, label=\"bidule\")_ tracera une courbe jaune, en pointillées, avec des croix sur les points (x,y), de nom “bidule”.\n",
    "\n",
    "* _plt.xlim(xmin, xmax)_ : fixer les bornes de l’axe des abscisses dans la figure. De même avec _plt.ylim_.\n",
    "* _plt.axis([xmin, xmax, ymin, ymax])_ : même chose que précédemment.\n",
    "* _plt.axis(’off’)_ : pas d’axes.\n",
    "* _plt.axis(’equal’)_ : axes égaux (un cercle est un cercle !)\n",
    "* _plt.xlabel(\"nom\")_ : donner un nom à l’axe des abscisses. De même avec _ylabel_.\n",
    "* _plt.legend(loc=\"upper right\")_ : rajout et positionnement de la légende (les étiquettes des courbes). Voir l’aide pour les options.\n",
    "* _plt.show()_ : affichage de la fenêtre. Tant qu’on fait des _plt.plot_, ils sont ajoutés à la même figure, ce qui permet de tracer plusieurs courbes sur le même graphique.\n",
    "* _plt.savefig(\"figure.png\")_ : sauvegarde la figure, l’extension (ici PNG) peut être précisée."
   ]
  },
  {
   "cell_type": "markdown",
   "id": "37c9955e-913e-48a6-b2c8-80c618d75155",
   "metadata": {},
   "source": [
    "### Exemple d’un tracé basique (deux courbes tracées sur un même graphe)"
   ]
  },
  {
   "cell_type": "code",
   "execution_count": null,
   "id": "63faa07a-e740-40e6-9bf9-3c9f2f6c767f",
   "metadata": {},
   "outputs": [],
   "source": [
    "import numpy as np\n",
    "import matplotlib.pyplot as plt\n",
    "x = np.linspace (0 , 2*np.pi , 30)\n",
    "y1 = np.cos ( x )\n",
    "y2 = np.sin ( x )\n",
    "plt.plot(x , y1 , \"r--\" , label = \" cos(x) \" )\n",
    "plt.plot (x , y2 , \"b:o\" , label = \" sin(x) \" )\n",
    "plt.axis ( \"equal\" )\n",
    "plt.legend ()\n",
    "plt.title ( \" TITRE \" )\n",
    "plt.show ()"
   ]
  },
  {
   "cell_type": "markdown",
   "id": "d6cf946b-0685-476b-9dad-7002d0051c0f",
   "metadata": {},
   "source": [
    "### Tracer en 3D"
   ]
  },
  {
   "cell_type": "code",
   "execution_count": null,
   "id": "21b71f8f-4a57-4658-928d-70cd10cfa5e3",
   "metadata": {},
   "outputs": [],
   "source": [
    "from mpl_toolkits.mplot3d import Axes3D # importation d’un module de tracé 3D"
   ]
  },
  {
   "cell_type": "markdown",
   "id": "4c96298a-f40f-4cec-a982-1873e92e31e7",
   "metadata": {},
   "source": [
    "### Afficher plusieurs tracés dans la même figure : _subplot_\n",
    "\n",
    "La fonction _subplot()_ permet d’organiser différents tracés à l’intérieur d’une grille d’affichage. Il faut spécifier le nombre de lignes, le nombre de colonnes ainsi que le numéro du tracé.\n",
    "Exemple :"
   ]
  },
  {
   "cell_type": "code",
   "execution_count": null,
   "id": "1caab160-f4c4-49e3-b819-94658d4acf4f",
   "metadata": {},
   "outputs": [],
   "source": [
    "import numpy as np\n",
    "import matplotlib.pyplot as plt\n",
    "\n",
    "def f(t) :\n",
    "  return np.exp(-t) * np.cos(2*np.pi*t)\n",
    "\n",
    "t1 = np.arange (0.0 , 5.0 , 0.1)\n",
    "t2 = np.arange (0.0 , 5.0 , 0.02)\n",
    "\n",
    "plt.subplot(211)\n",
    "plt.plot(t1, f(t1), \"bo\" )\n",
    "plt.plot (t2 , f(t2) , \"k\" )\n",
    "\n",
    "plt.subplot(212)\n",
    "plt.plot (t2, np.cos(2*np.pi * t2 ) , \"r--\" )\n",
    "plt.show()"
   ]
  },
  {
   "cell_type": "markdown",
   "id": "3719fe0f-2f3f-464a-a0bf-0fa6619e1d06",
   "metadata": {},
   "source": [
    "## 3 OpenCV-Python (lecture et traitement d'images)"
   ]
  },
  {
   "cell_type": "markdown",
   "id": "6002af41-bc7a-4966-858e-a72f6d71579b",
   "metadata": {},
   "source": [
    "### 3.1 Chargement d’une matrice de pixels\n",
    "\n",
    "Nous allons faire nos premiers essais avec la photo de Lena (renommée Lenna par les Américains), qui est un classique historique des chercheurs en traitement d’images (aussi téléchargeable sur la page https://en.wikipedia.org/wiki/Lenna). L'image Lena.png se trouve dans le même répertoire de ce Notebook.\n",
    "Exécutez la cellule suivante :"
   ]
  },
  {
   "cell_type": "code",
   "execution_count": null,
   "id": "d3d51a28-4d40-444a-8cda-9b1913ac7d8b",
   "metadata": {},
   "outputs": [],
   "source": [
    "import cv2 as cv\n",
    "matrice = cv.imread ( \"Lena.png\" ) # charge le fichier dans une matrice de pixels couleur\n",
    "print ( matrice.shape ) # affiche les dimensions de la matrice\n",
    "print ( matrice [0 ,0]) # accède à la valeur du premier pixel"
   ]
  },
  {
   "cell_type": "markdown",
   "id": "b5e9d1cb-4c3f-4db4-b220-acc31c98a687",
   "metadata": {},
   "source": [
    "Il doit s’afficher :\n",
    "\n",
    "```\n",
    "(440,440,3)\n",
    "[124 136 226]\n",
    "```\n",
    "\n",
    "En effet, l’image chargée par la fonction _imread_ fait 440 lignes sur 440 colonnes, avec chaque pixel stocké sur 3 octets (car c’est une image couleur en triplet RVB). Ensuite s’affiche la valeur du pixel de la ligne 0 colonne 0 qui est le triplet ```[124 136 226]```.\n",
    "\n",
    "*NB*: OpenCV gère les valeurs des pixels non pas dans l’ordre RVB, mais à l’inverse dans l’ordre BVR, donc 226 est ici la composante de rouge du pixel de coordonnées (0,0).\n",
    "\n",
    "Pour convertir l’image couleur précédente en matrice de pixels en niveaux de gris, on peut ajouter les instructions suivantes :"
   ]
  },
  {
   "cell_type": "code",
   "execution_count": null,
   "id": "9dfa18a0-3752-451f-b4a7-988ed86bb665",
   "metadata": {},
   "outputs": [],
   "source": [
    "matG = cv.cvtColor ( matrice , cv.COLOR_BGR2GRAY ) # conversion des triplets BVR en gris\n",
    "print ( matG.shape )\n",
    "print ( matG[0 ,0])"
   ]
  },
  {
   "cell_type": "markdown",
   "id": "2752d59d-28b2-4f17-9c3a-6bc0ead90760",
   "metadata": {},
   "source": [
    "La nouvelle matrice fait aussi 440 lignes par 440 colonnes, mais sur de simples octets. Et la couleur RVB du pixel a été convertie en 162, qui correspond à la luminance. (La formule de la composante Y dans l’espace des couleurs YUV utilisée est : ```Y = 0.299 ∗ R + 0.587 ∗ G + 0.114 ∗ B```).\n",
    "\n",
    "**NB** : Il existe un paramètre de la fonction _imread_ qui permet de charger une image directement dans une matrice de niveaux de gris : la valeur 0 ajoutable en second paramètre équivalent à _cv.IMREAD GRAYSCALE_. Cependant, cette fonction n’utilise pas exactement la même formule de conversion en luminance."
   ]
  },
  {
   "cell_type": "code",
   "execution_count": null,
   "id": "b6e382e9-a3b7-45ed-9f37-5c3255a86859",
   "metadata": {},
   "outputs": [],
   "source": [
    "matrice = cv.imread ( \"Lena.png\",0 ) # charge le fichier dans une matrice de pixels gris"
   ]
  },
  {
   "cell_type": "markdown",
   "id": "1082dd4a-b316-4ba6-b995-1fe80f2c9dc9",
   "metadata": {},
   "source": [
    "### 3.2 Enregistrement d’une matrice de pixels\n",
    "\n",
    "L'appel de la fonction _imwrite_ enregistre un fichier contenant la matrice de pixels, selon le type de matrice (niveaux de gris, ou couleurs) et selon le format indiqué par le nom choisi (ici PNG, mais on pourrait aussi choisir JPEG en terminant le nom du fichier par _.jpg_)."
   ]
  },
  {
   "cell_type": "code",
   "execution_count": null,
   "id": "bd2a8d0d-4386-4ad0-9415-f151525269bb",
   "metadata": {},
   "outputs": [],
   "source": [
    "cv.imwrite ( \"resultat.jpg\" , matG ) # enregistre la matrice dans un fichier du nom indiqué"
   ]
  },
  {
   "cell_type": "markdown",
   "id": "00f93da0-e6ef-4f59-9e42-6136e9a094c0",
   "metadata": {},
   "source": [
    "### 3.3 Visualisation d’une matrice de pixels\n",
    "\n",
    "Il serait possible de visualiser l’image enregistrée grâce à un logiciel de traitement d’images (par exemple GIMP). Il est cependant aussi possible d’afficher plus sommairement les images directement depuis le programme Python en utilisant la bibliothèque **Matplotlib**."
   ]
  },
  {
   "cell_type": "code",
   "execution_count": null,
   "id": "52674f5f-01bf-4469-b97a-b4b38b0d3850",
   "metadata": {},
   "outputs": [],
   "source": [
    "matrice2 = cv.imread(\"Lena.png\") # charge le fichier dans une matrice de pixels couleur\n",
    "plt.imshow( matrice2[... , :: -1]) # affiche la matrice de triplets RVB\n",
    "plt.show() # ouvre la fenêtre d’affichage et attend la fin de l’interaction utilisateur (si utilisée dans un IDE)"
   ]
  },
  {
   "cell_type": "markdown",
   "id": "6303913d-478c-4346-b4ee-bb487006c439",
   "metadata": {},
   "source": [
    "Quelques remarques sur l’affichage par plt.imshow() :\n",
    "Comme la bibliothèque **Matplotlib** considère les images couleur en triplets RVB et qu’au contraire la bibliothèque **OpenCV** les gère en ordre inverse, en triplets BVR, il faut inverser l’ordre de tous les triplets, ce que fait l’indexation utilisant ::-1.\n",
    "On aurait pu obtenir le même résultat en utilisant la fonction de conversion :"
   ]
  },
  {
   "cell_type": "code",
   "execution_count": null,
   "id": "498182f0-3858-48e4-b746-1dd82cb5b5fb",
   "metadata": {},
   "outputs": [],
   "source": [
    "plt.imshow(cv.cvtColor( matrice2, cv.COLOR_BGR2RGB)) # affiche la matrice de triplets RVB"
   ]
  },
  {
   "cell_type": "markdown",
   "id": "1d4e11f6-83e7-4cc2-921e-2d3966bfb907",
   "metadata": {},
   "source": [
    "Quand la matrice n’est pas en couleur, mais en niveaux de gris, il faut préciser d’utiliser une palette (_colormap_) de\n",
    "gris :"
   ]
  },
  {
   "cell_type": "code",
   "execution_count": null,
   "id": "891e1700-b7dd-4bd5-8fd1-e3580c2b697a",
   "metadata": {},
   "outputs": [],
   "source": [
    "matG = cv.imread ( \"Lena.png\" , 0) # charge le fichier dans une matrice de pixels gris\n",
    "plt.imshow ( matG , cmap = 'gray') # affiche la matrice de niveaux de gris\n",
    "plt.show() # ouvre la fenêtre d’affichage et attend la fin de l’interaction utilisateur"
   ]
  },
  {
   "cell_type": "markdown",
   "id": "78e8451e-a174-46ba-9d99-f0513c22dff8",
   "metadata": {},
   "source": [
    "### 3.4 Modification d’une matrice de pixels\n",
    "\n",
    "#### 3.4.1 Exemple 1\n",
    "\n",
    "Ajoutons une ligne verticale blanche (en colonne 100) sur une image :"
   ]
  },
  {
   "cell_type": "code",
   "execution_count": null,
   "id": "d8184074-8b58-4f84-9f98-a17f9925c7ca",
   "metadata": {},
   "outputs": [],
   "source": [
    "import cv2 as cv\n",
    "import numpy as np\n",
    "import matplotlib.pyplot as plt\n",
    "\n",
    "image = cv.imread ( \"Lena.png\" ) # charge le fichier dans une matrice de pixels couleur\n",
    "\n",
    "for i in range (0 , image.shape [0]) : # pour toutes les lignes i de l’image\n",
    "  image[i,100] = [255 , 255 , 255] # insère du blanc en ligne i colonne 100\n",
    "\n",
    "plt.imshow ( image[... , :: -1])\n",
    "plt.show()"
   ]
  },
  {
   "cell_type": "markdown",
   "id": "5b115814-445a-45a9-a0b7-913609d9e36d",
   "metadata": {},
   "source": [
    "```image[i,j]``` permet donc d’accéder à la valeur du pixel aux coordonnées ```(i,j)```.\n",
    "La syntaxe d’indexation ```image[i,j]``` de _Python_ permet beaucoup plus qu’accéder à un simple pixel : elle permet en fait d’extraire une sous-partie de la matrice de pixels et son utilisation pour accéder à un seul pixel, ce qui peut être un usage peu optimal. C’est pourquoi il existe des opérations spécialisées pour accéder à un seul pixel :\n",
    "* En lecture : ```image.item(i,j)``` fournit la valeur du pixel en ```(i,j)``` ;\n",
    "* En écriture : ```image.itemset((i,j),valeur)``` permet d’affecter la valeur souhaitée au pixel ```(i,j)```.\n",
    "Cependant, nous n’utiliserons pas cette syntaxe spécialisée dans la suite de nos exemples pour conserver une lecture aisée et légère des programmes."
   ]
  },
  {
   "cell_type": "markdown",
   "id": "c675ae3a-ebc1-49f7-97d3-a01381c72fc0",
   "metadata": {},
   "source": [
    "#### 3.4.2 Exemple 2\n",
    "\n",
    "Modifions les composantes couleur d’une image : le quart supérieur gauche effacera la première composante de chaque triplet, le quart supérieur droit effacera la deuxième composante de chaque triplet, le quart inférieur gauche effacera la troisième composante, et le quart inférieur droit de l’image restera intact tel quel."
   ]
  },
  {
   "cell_type": "code",
   "execution_count": null,
   "id": "99270bbd-6623-423b-b69b-312920bd7f00",
   "metadata": {},
   "outputs": [],
   "source": [
    "import cv2 as cv\n",
    "import numpy as np\n",
    "import matplotlib.pyplot as plt\n",
    "\n",
    "image = cv.imread( \"Lena.png\" ) # charge le fichier dans une matrice de pixels couleur\n",
    "\n",
    "for i in range (0 , image.shape [0]//2) : # // est la division entière par 2\n",
    "  for j in range (0 , image.shape [1]//2) :\n",
    "    image [i ,j ,0] = 0 # efface la 1re composante, bleue, du triplet BVR\n",
    "plt.imshow ( image [... , :: -1])\n",
    "plt.show ()\n",
    "\n",
    "for i in range (0 , image.shape [0]//2) :\n",
    "  for j in range ( image.shape [1]//2 , image.shape [1]) :\n",
    "    image [i ,j ,1] = 0 # efface la 2e composant, verte, du triplet BVR\n",
    "plt.imshow ( image [... , :: -1])\n",
    "plt.show()\n",
    "\n",
    "for i in range ( image.shape [0]//2 , image.shape [0]) :\n",
    "  for j in range (0 , image . shape [1]//2) :\n",
    "    image[i ,j ,2] = 0 # efface la 3e composante, rouge , du triplet BVR\n",
    "plt.imshow ( image [... , :: -1])\n",
    "plt.show ()"
   ]
  },
  {
   "cell_type": "markdown",
   "id": "e9140854-5cf4-4811-9644-8c8263c8b11b",
   "metadata": {},
   "source": [
    "On constate sur le résultat que les couleurs de la photo originale de Lena contenaient essentiellement des mélanges de rouge et de vert (et très peu de bleu) car :\n",
    "* La suppression de la composante bleue ne change pas beaucoup les couleurs;\n",
    "* La suppression du vert fait apparaître une dominante de rouge;\n",
    "* La suppression du rouge faire apparaître une dominante de vert.\n",
    "```image[i,j,0]``` permet donc d’accéder à la composante d’indice 0 de la valeur du pixel aux coordonnées ```(i,j)``` $\\rightarrow$ c’est\n",
    "la composante bleue, et donc 1 pour le vert et 2 pour le rouge."
   ]
  },
  {
   "cell_type": "markdown",
   "id": "1082f9a6-3309-425b-992b-9bd62974d227",
   "metadata": {},
   "source": [
    "#### 3.4.3 Exemple 3\n",
    "\n",
    "Passons d’une photo noir et blanc à son négatif.\n",
    "Cette opération, dite d’inverse vidéo, renverse l’ordre des niveaux de gris de l’image (le noir devient blanc, le blanc devient noir, etc.).\n",
    "\n",
    "Plutôt que de répéter l’opération ```[i,j] = 255 - image[i,j]``` en chaque pixel, on a utilisé ici les opérations matricielles pour faire globalement cette opération en une seule instruction, de manière plus concise et plus efficace."
   ]
  },
  {
   "cell_type": "code",
   "execution_count": null,
   "id": "69e1d299-76bf-4b81-9f0b-f09a7a7841a8",
   "metadata": {
    "scrolled": true
   },
   "outputs": [],
   "source": [
    "import cv2 as cv\n",
    "import numpy as np\n",
    "import matplotlib.pyplot as plt\n",
    "\n",
    "image = cv.imread ( \"Lena.png\" , 0) # charge le fichier dans une matrice de pixels gris\n",
    "image = 255 - image\n",
    "plt.imshow ( image , cmap='gray')\n",
    "plt.show()"
   ]
  },
  {
   "cell_type": "markdown",
   "id": "c9686540-2cf8-4678-994d-dfd90f33b422",
   "metadata": {},
   "source": [
    "### 3.5 Vos premières fonctions de traitement d'images en Python\n",
    "\n",
    "Dans un premier temps, sans utiliser les fonctions predefinies de *OpenCV*, écrivez vos premières fonctions en Python permettant d'effectuer les calculs suivants sur une image d'entrée et testez-les sur _Lena.png_ et sur des images de votre choix.\n",
    "\n",
    "1. Augmenter/diminuer le niveau de luminosité d'une image d'entrée *img* selon un paramètre *_lambda* (*_lambda* peut être une valeur negative ou positive entre *-255* et *255*).\n",
    "2. Calculer le négatif d'une image en RVB.\n",
    "3. Redimensionner une image par un facteur $x$. Par exemple, pour l'image _Lena.png_, si $x=0.5$, l'image de sortie sera de dimension $220 \\times 220$. Si $x=1.3$, la sortie sera de dimension $572 \\times 572$. Et, si $x=2.0$, la sortie sera de dimension $880 \\times 880$.\n",
    "4. Faire pivoter une image de $90$, $180$ ou $270$ degrés."
   ]
  },
  {
   "cell_type": "code",
   "execution_count": 1,
   "id": "b224f432-e7be-4173-8735-76225e54345e",
   "metadata": {},
   "outputs": [],
   "source": [
    "import cv2 as cv\n",
    "import numpy as np\n",
    "import matplotlib.pyplot as plt\n",
    "\n",
    "img = cv.imread(\"Lena.png\") # Remplacez par une image de votre choix\n",
    "\n",
    "def changer_luminosite(img, _lambda):\n",
    "    resultat = img # A changer...\n",
    "    #A compléter...\n",
    "    return resultat\n",
    "\n",
    "def negatif_rgb(img):\n",
    "    resultat = img # A changer...\n",
    "    #A completer...\n",
    "    return resultat\n",
    "\n",
    "def redimensionner(img, x):\n",
    "    resultat = img # A changer...\n",
    "    #A completer...\n",
    "    return resultat\n",
    "\n",
    "def pivoter(img, degrees):\n",
    "    resultat = img # A changer...\n",
    "    # A completer...\n",
    "    return resultat"
   ]
  },
  {
   "cell_type": "markdown",
   "id": "29291bb7-db1c-4673-977b-538b1507b4ca",
   "metadata": {},
   "source": [
    "### 3.6 Fausses couleurs"
   ]
  },
  {
   "cell_type": "markdown",
   "id": "4c572dc2-e0c4-43bd-a280-ea0e97e5d5db",
   "metadata": {},
   "source": [
    "Étant donnée l'image en niveaux de gris ```einstein.png``` (de dimension ```186 × 182```) prise avant la popularisation des caméras RVB, on souhaite calculer une nouvelle image ```I_rvb``` en attribuant des \"fausses couleurs\" aux pixels de l'image originale. Plus précisément, l'image résultante ```I_rgb``` est représentée par un tableau à trois dimensions (```186 × 182 x 3```) où, pour chaque pixel à la ligne ```i``` et colonne ```j```, le pixel ```I_rgb[i,j]``` est :\n",
    "\n",
    "- <span style=\"color:blue\">Blue</span> si le niveau de gris de ```I[i,j]``` est inférieur ou égal à ```85```\n",
    "- <span style=\"color:green\">Vert</span> si le niveau de gris de ```I[i,j]``` est entre ```86``` et ```170```\n",
    "- <span style=\"color:red\">Rouge</span> si le niveau de gris de ```I[i,j]``` est supérieur à ```170```\n",
    "\n",
    "Complétez le code suivant afin d'obtenir l'image en RVB affichée ci-dessous.\n",
    "\n",
    "![Image](einstein.png) ![Image](einstein_rvb.png)"
   ]
  },
  {
   "cell_type": "code",
   "execution_count": null,
   "id": "fede57c1-8190-450a-8e1c-287eabc1609a",
   "metadata": {},
   "outputs": [],
   "source": [
    "image = cv.imread(\"einstein.png\",0)\n",
    "# Crée une image des mêmes dimensions que l'image originelle\n",
    "image_rvb = np.zeros(shape=(image.shape[0], image.shape[1], 3)).astype('uint8')\n",
    "\n",
    "for i in range(image.shape[0]):\n",
    "    for j in range(image.shape[1]):\n",
    "        # A compléter...\n",
    "        \n",
    "plt.imshow(image_rvb)\n",
    "plt.show()"
   ]
  }
 ],
 "metadata": {
  "kernelspec": {
   "display_name": "Python 3 (ipykernel)",
   "language": "python",
   "name": "python3"
  },
  "language_info": {
   "codemirror_mode": {
    "name": "ipython",
    "version": 3
   },
   "file_extension": ".py",
   "mimetype": "text/x-python",
   "name": "python",
   "nbconvert_exporter": "python",
   "pygments_lexer": "ipython3",
   "version": "3.9.2"
  }
 },
 "nbformat": 4,
 "nbformat_minor": 5
}
