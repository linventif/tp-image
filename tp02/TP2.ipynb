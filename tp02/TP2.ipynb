{
 "cells": [
  {
   "cell_type": "markdown",
   "id": "8eb4132d-1dc4-40d5-a3bc-7f424dfeb4bb",
   "metadata": {},
   "source": [
    "# TP2 : Convolution, filtrage et détection de contours\n",
    "\n",
    "Dans le domaine du traitement d'images et d'intelligence artificielle appliquées aux images, la notion de **convolution** joue un rôle fondamental. Comme vu à l'amphi, les matrices de convolution peuvent servir à réduire le bruit et à détecter les contours horizontaux et verticaux d'une image. D'ailleurs, parmi les algorithmes de classification d'images et de détection d'objets les plus performants, on peut citer les **Réseaux de Neurones Convolutifs**, ou _Convolution Neural Networks_ (CNNs) en anglais, qui sont composés d'un enchaînement de convolutions permettant d'extraire des caractéristiques des images d'entrée.\n",
    "\n",
    "Dans ce TP, nous allons étudier les notions suivantes :\n",
    "* convolution\n",
    "* filtrage spatial linéaire (filtre moyenneur, filtre gaussien)\n",
    "* filtrage non-linéaire (filtre médian)\n",
    "* détection de contours (opérateurs de _Roberts_, _Prewitt_, _Sobel_, ...)\n",
    "* mise en œuvre avec Python"
   ]
  },
  {
   "cell_type": "markdown",
   "id": "382a1a66-8862-449c-a697-5c9d2f3090bf",
   "metadata": {},
   "source": [
    "## Import des modules de base\n",
    "\n",
    "Exécutez la cellule suivante afin d'importer les modules **Numpy**, **Matplotlib** et **OpenCV**. Cette cellule doit être exécutée à chaque fois que vous réinitialisez le _kernel_."
   ]
  },
  {
   "cell_type": "code",
   "execution_count": 2,
   "id": "020607e1-0f88-4e39-b96a-ae0ade4d788a",
   "metadata": {},
   "outputs": [],
   "source": [
    "import numpy as np\n",
    "import matplotlib.pyplot as plt\n",
    "import cv2 as cv"
   ]
  },
  {
   "cell_type": "markdown",
   "id": "e407060b-c510-42ba-bb9c-0165c8859dd3",
   "metadata": {},
   "source": [
    "## 1 Convolution et filtrage spatial linéaire\n",
    "\n",
    "### 1.1 Convolution 2D\n",
    "\n",
    "La méthode ```filter2D``` d'**OpenCV** renvoie la convolution d'une matrice (image) par une matrice de convolution (aussi apelée *kernel* ou *masque*) comme vu en cours. Voici sa syntaxe :\n",
    "\n",
    "``resultat = cv.filter2D(src=f, ddepth=-1 kernel=g)``\n",
    "\n",
    "```src``` : on remplace ```f``` par la matrice de l'image originale (sur laquelle nous allons appliquer la convolution).\n",
    "\n",
    "```ddepth=-1``` : profondeur de l'image de sortie (-1 donnera la même profondeur que l'image d'entrée).  \n",
    "\n",
    "```kernel``` : on remplace ```g``` par la matrice de convolution.\n",
    "\n",
    "**1.1.1** Testez la méthode ```filter2D``` sur les matrices ci-dessous.\n",
    "\n",
    "\\begin{equation}\n",
    "f =\n",
    "\\begin{bmatrix}\n",
    "5 & 5 & 6 & 1\\\\\n",
    "5 & 5 & 7 & 0\\\\\n",
    "2 & 4 & 8 & 0\\\\\n",
    "1 & 1 & 1 & 1\\\\\n",
    "\\end{bmatrix}\n",
    "\\hspace{1.0cm}g = \n",
    "\\begin{bmatrix}\n",
    "0 & 1 & 0\\\\\n",
    "1 & 1 & 1\\\\\n",
    "0 & 1 & 0\\\\\n",
    "\\end{bmatrix}\n",
    "\\end{equation}"
   ]
  },
  {
   "cell_type": "code",
   "execution_count": 3,
   "id": "5b0ccad2-0287-4c09-85e4-400b711707b1",
   "metadata": {},
   "outputs": [
    {
     "name": "stdout",
     "output_type": "stream",
     "text": [
      "[[25. 26. 26. 13.]\n",
      " [22. 26. 26. 15.]\n",
      " [16. 20. 20. 17.]\n",
      " [ 7. 11. 19.  3.]]\n"
     ]
    }
   ],
   "source": [
    "f = np.array([[5,5,6,1],[5,5,7,0],[2,4,8,0],[1,1,1,1]], np.float32)\n",
    "g = np.array([[0,1,0],[1,1,1],[0,1,0]], np.float32)\n",
    "\n",
    "resultat = cv.filter2D(src=f, ddepth=-1, kernel=g)\n",
    "print(resultat)\n"
   ]
  },
  {
   "cell_type": "markdown",
   "id": "79f22fb1-f509-4df6-b4f5-6985dad646e2",
   "metadata": {},
   "source": [
    "**1.1.2** Comparez votre résultat avec celui montré sur le slide 20 du cours (*Convolution et filtres*). Remarquez que ```cv.filter2D``` renvoie un résultat de même taille que l'image originale grâce au *padding* déjà intégré dans l'implémentation de cette méthode. En analysant le résultat précédent, quel type de *padding* est utilisé par défaut (zéros ou reflet) ?"
   ]
  },
  {
   "cell_type": "markdown",
   "id": "ec9860f2-19fd-4759-9c1e-5ac89250ac1a",
   "metadata": {},
   "source": [
    "### 1.2 Filtrage/lissage moyenneur\n",
    "\n",
    "**1.2.1** La matrice $I$ ci-dessous représente une image à niveaux de gris de taille 10 × 10 pixels. Exécutez le code suivant afin de visualiser $I$ en niveaux de gris.\n",
    "\n",
    "\\begin{bmatrix}\n",
    "96 & 80 & 64 & 48 & 32 & 32 & 48 & 64 & 80 & 96\\\\\n",
    "80 & 64 & 48 & 32 & 16 & 16 & 32 & 48 & 64 & 80\\\\\n",
    "64 & 48 & 32 & 16 & 224 & 224 & 16 & 32 & 48 & 64\\\\\n",
    "48 & 32 & 16 & 224 & 192 & 192 & 224 & 16 & 32 & 48\\\\\n",
    "32 & 16 & 224 & 192 & 128 & 128 & 192 & 224 & 16 & 32\\\\ \n",
    "32 & 16 & 224 & 192 & 128 & 128 & 192 & 224 & 16 & 32\\\\ \n",
    "48 & 32 & 16 & 224 & 192 & 192 & 224 & 16 & 32 & 48\\\\\n",
    "64 & 48 & 32 & 16 & 224 & 224 & 16 & 32 & 48 & 64\\\\\n",
    "80 & 64 & 48 & 32 & 16 & 16 & 32 & 48 & 64 & 80\\\\\n",
    "96 & 80 & 64 & 48 & 32 & 32 & 48 & 64 & 80 & 96\\\\\n",
    "\\end{bmatrix}"
   ]
  },
  {
   "cell_type": "code",
   "execution_count": 4,
   "id": "fea246e3-517c-43a4-b313-0c9e7305b1b7",
   "metadata": {
    "scrolled": true
   },
   "outputs": [
    {
     "data": {
      "text/plain": [
       "<matplotlib.image.AxesImage at 0x72221e1d1850>"
      ]
     },
     "execution_count": 4,
     "metadata": {},
     "output_type": "execute_result"
    },
    {
     "data": {
      "image/png": "[encoded data removed]",
      "text/plain": [
       "<Figure size 640x480 with 1 Axes>"
      ]
     },
     "metadata": {},
     "output_type": "display_data"
    }
   ],
   "source": [
    "I = np.array([[96 , 80 , 64 , 48 , 32 , 32 , 48 , 64 , 80 , 96],\n",
    "     [80 , 64 , 48 , 32 , 16 , 16 , 32 , 48 , 64 , 80],\n",
    "     [64 , 48 , 32 , 16 , 224 , 224 , 16 , 32 , 48 , 64],\n",
    "     [48 , 32 , 16 , 224 , 192 , 192 , 224 , 16 , 32 , 48],\n",
    "     [32 , 16 , 224 , 192 , 128 , 128 , 192 , 224 , 16 , 32],\n",
    "     [32 , 16 , 224 , 192 , 128 , 128 , 192 , 224 , 16 , 32],\n",
    "     [48 , 32 , 16 , 224 , 192 , 192 , 224 , 16 , 32 , 48],\n",
    "     [64 , 48 , 32 , 16 , 224 , 224 , 16 , 32 , 48 , 64],\n",
    "     [80 , 64 , 48 , 32 , 16 , 16 , 32 , 48 , 64 , 80],\n",
    "     [96 , 80 , 64 , 48 , 32 , 32 , 48 , 64 , 80 , 96]], np.float32)\n",
    "\n",
    "plt.imshow(I, cmap='gray')"
   ]
  },
  {
   "cell_type": "markdown",
   "id": "fbd31f88",
   "metadata": {},
   "source": [
    "**1.2.2** Etant donne le kernel ```K``` d'un filtre moyenneur de dimension $3 \\times 3$ (slide 29 du cours *Convolution et filtres*), calculez à la main la valeur du premier pixel (celui le plus en haut à gauche) du résultat de la convolution de ```I``` par ```K``` en utilisant un *padding* reflet."
   ]
  },
  {
   "cell_type": "markdown",
   "id": "2d575440",
   "metadata": {},
   "source": [
    "**1.2.3** Vérifiez votre calcul à l'aide de la fonction ```cv.filter2D``` et visualizez le résultat sous forme d'une image en niveaux de gris."
   ]
  },
  {
   "cell_type": "code",
   "execution_count": 5,
   "id": "2d64830b",
   "metadata": {},
   "outputs": [],
   "source": []
  },
  {
   "cell_type": "markdown",
   "id": "7b563c76",
   "metadata": {},
   "source": [
    "**1.2.4** Effectuez la convolution de ```I``` par des filtres moyenneurs de dimension $5 \\times 5$ et $7 \\times 7$ et visualisez les résultats."
   ]
  },
  {
   "cell_type": "code",
   "execution_count": 22,
   "id": "dda0e41d",
   "metadata": {},
   "outputs": [],
   "source": [
    "# À compléter..."
   ]
  },
  {
   "cell_type": "markdown",
   "id": "91099a80-7b22-405e-8f79-9f0f9fd4e15a",
   "metadata": {},
   "source": [
    "**1.2.5** Appliquez un filtre moyenneur sur l'image réelle ci-dessous _canvas_gris.png_. Comparez les résultats obtenus avec de matrices de convolution de différentes tailles ($3 \\times 3$, $5 \\times 5$, $7 \\times 7$...).\n",
    "\n",
    "![Image](canvas_gris.png)"
   ]
  },
  {
   "cell_type": "code",
   "execution_count": 20,
   "id": "0e77d085-04d6-4fad-b1c5-cdbc00700608",
   "metadata": {},
   "outputs": [],
   "source": [
    "# À compléter..."
   ]
  },
  {
   "cell_type": "markdown",
   "id": "83aab82f-cc1d-448e-807b-5b2c4079612e",
   "metadata": {},
   "source": [
    "**1.2.6** Comparez également vos résultats avec ceux obtenus en utilisant directement la fonction de filtrage moyenneur d’**OpenCV** : \n",
    "\n",
    "```resultat = cv.blur(img,(n,n),borderType=cv.BORDER_CONSTANT)```\n",
    "\n",
    "Cette fonction aplique un filtre moyenneur sur l'image ```img``` avec un kernel de dimension $n \\times n$. La valeur de ```borderType``` sert à paramétriser le type de *padding* :\n",
    "\n",
    "```cv.BORDER_CONSTANT``` : zéros (valeur par défaut)\n",
    "\n",
    "```cv.BORDER_REFLECT_101``` : reflet\n",
    "\n",
    "D'autres valeurs possibles sont listées [ici](https://docs.opencv.org/4.1.1/d2/de8/group__core__array.html#ga209f2f4869e304c82d07739337eae7c5). "
   ]
  },
  {
   "cell_type": "code",
   "execution_count": 21,
   "id": "15f0a1de-53a2-40c5-b852-a7d0ab2290da",
   "metadata": {},
   "outputs": [],
   "source": [
    "# À compléter..."
   ]
  },
  {
   "cell_type": "markdown",
   "id": "0000e8cb-e23a-4190-83a9-ef47fe6b7d88",
   "metadata": {},
   "source": [
    "### 1.3 Filtrage/lissage gaussien :\n",
    "\n",
    "**1.3.1** Effectuez un filtrage gaussien sur l’image _canvas_gris.png_ en utilisant la fonction ```cv.filter2D``` et le kernel gaussien suivant :\n",
    "\n",
    "\\begin{equation}\n",
    "k=\\frac{1}{16}\n",
    "\\begin{bmatrix}\n",
    "1 & 2 & 1 \\\\\n",
    "2 & 4 & 2\\\\\n",
    "1 & 2 & 1\\\\\n",
    "\\end{bmatrix}\n",
    "\\end{equation}"
   ]
  },
  {
   "cell_type": "code",
   "execution_count": 19,
   "id": "41aaa7b9-ab31-404d-8371-a9307d9bb1ee",
   "metadata": {},
   "outputs": [],
   "source": [
    "# À compléter..."
   ]
  },
  {
   "cell_type": "markdown",
   "id": "7b52d76a",
   "metadata": {},
   "source": [
    "----\n",
    "\n",
    "En réalité, le *kernel* ```k``` ci-dessus est une discrétisation et une approximation d'une fonction Gaussienne en 2D avec un écart type $\\sigma=0.85$. \n",
    "\n",
    "Plus l'écart type est petit, plus le sommet de la courbe sera haut. De façon similaire, plus l'écart type est élevé, plus la courbe sera plate.\n",
    "\n",
    "Dans le cas discret, cela veut dire que, plus l'écart type est petit, plus la valeur au milieu du *kernel* sera élevée et plus les valeurs dans le bord seront petites. De la même manière, plus l'écart type est élevé, plus le kernel sera \"plat\" et s'approchera du *kernel* du filtre moyenneur.\n",
    "\n",
    "Par exemple, pour un écart type de $0.5$ et de $2$, les *kernels* Gaussian de dimension $3 \\times 3$ auront environ les valeurs suivantes :\n",
    "\n",
    "\\begin{equation}\n",
    "k_{0.5} =\n",
    "\\begin{bmatrix}\n",
    "0.01 & 0.08 & 0.01 \\\\\n",
    "0.08 & 0.62 & 0.08 \\\\\n",
    "0.01 & 0.08 & 0.01 \\\\\n",
    "\\end{bmatrix}\n",
    "\\hspace{1.0cm}k_{2} = \n",
    "\\begin{bmatrix}\n",
    "0.10 & 0.12 & 0.10\\\\\n",
    "0.12 & 0.13 & 0.12\\\\\n",
    "0.10 & 0.12 & 0.10\\\\\n",
    "\\end{bmatrix}\n",
    "\\end{equation}\n",
    "\n",
    "\n",
    "\n",
    "<p align=\"center\">\n",
    "  <img alt=\"img-name\" src=\"gauss.png\" width=\"300\">\n",
    "  <br>\n",
    "    <em>Gaussienne avec un écart-type plus petit à gauche et plus elevé à droite.</em>\n",
    "</p>\n",
    "\n",
    "**NB** : La fonction _cv.getGaussianKernel_ permet de calculer des *kernels* gaussiens. Par exemple, pour créer un *kernel* de taille $3 \\times 3$ et d'écart-type $0.85$ :\n",
    "\n",
    "```k_aux = cv.getGaussianKernel(3,0.85)```\n",
    "\n",
    "```k = np.matmul(k_aux, np.transpose(k_aux))```\n",
    "\n",
    "-----"
   ]
  },
  {
   "cell_type": "markdown",
   "id": "a14af1fd-8a6f-42f4-8987-488551bf94bd",
   "metadata": {},
   "source": [
    "**1.3.2** Quel est l'impact de l'écart-type de la gaussienne dans le résultat du filtrage ? Appliquez des filtres gaussiens sur l'image ```canvas_gris.png``` avec un *kernel* de taille $7 \\times 7$ en variant les valeurs des écarts-types (testez au moins $0.5$, $1.0$ et $2.0$).\n",
    "\n",
    "Pour cela, vous pouvez :\n",
    "\n",
    "1. Soit créer un kernel ```k``` en utilisant les méthodes ```cv.getGaussianKernel``` et ```np.matmul```, comme illustré ci-dessus, et ensuite apliquer la méthode ```cv.filter2D```\n",
    "2. Soit utiliser la méthode ```cv.GaussianBlur``` directement. Par exemple :\n",
    "\n",
    "```resultat = cv.GaussianBlur(img, (3, 3), 0.8, borderType=cv.BORDER_CONSTANT)``` applique un filtre avec un kernel gaussien de taille $3 \\times 3$ et d’écart-type $0.8$."
   ]
  },
  {
   "cell_type": "code",
   "execution_count": 1,
   "id": "74b68edf-ec5d-4fdb-bad3-80829966844a",
   "metadata": {},
   "outputs": [],
   "source": [
    "# À compléter..."
   ]
  },
  {
   "cell_type": "markdown",
   "id": "f2b339d7-b807-4ce1-bddc-a238ad31e19d",
   "metadata": {},
   "source": [
    "## 2 Filtre d’ordre\n",
    "\n",
    "Parmi les filtres d’ordre (filtre non-linéaire), il en existe trois basiques :\n",
    "* le filtre _min_ qui renvoie la valeur minimum parmi les 9 pixels du voisinage (si on considère une fenêtre $3 \\times 3$),\n",
    "* le filtre _max_ qui renvoie la valeur maximum parmi les 9 pixels du voisinage (dans le cas d’une fenêtre $3 \\times 3$),\n",
    "* et le filtre _médian_ qui renvoie la valeur médiane parmi les 9 pixels du voisinage (dans le cas d’une fenêtre $3 \\times 3$).\n",
    "\n",
    "Le filtre _min_ noircit l’image puisqu’il privilégie des valeurs faibles tandis que le filtre _max_ éclaircit l’image. De plus, les filtres d’ordre ont tendance à uniformiser des petites régions. Les filtres _min_ et _max_ étant “peu intéressants”, étudions le cas du filtre _médian_."
   ]
  },
  {
   "cell_type": "markdown",
   "id": "dcc893b9-dcae-4c8d-bd4f-297807c8246d",
   "metadata": {},
   "source": [
    "**2.1** La fonction d’OpenCV ```cv.medianBlur(img, tailleVoisinage)``` aplique un filtre médian à l'image ```img``` (où _tailleVoisinage_ est un entier, par exemple 3 si on souhaite un voisinage $3 \\times 3$). Ouvrez et visualisez l'image _bateaux_nb_bruite.bmp_. Ensuite, appliquez un filtre médian sur cette image pour en supprimer le bruit."
   ]
  },
  {
   "cell_type": "code",
   "execution_count": 12,
   "id": "c95f1bd6-a5b8-4269-b954-fbe9488e184d",
   "metadata": {},
   "outputs": [],
   "source": [
    "bateaux = cv.imread(\"bateaux_nb_bruite.bmp\",0)\n",
    "\n",
    "# À compléter..."
   ]
  },
  {
   "cell_type": "markdown",
   "id": "564f112b-46a1-4b5a-9870-54b65bf13ec2",
   "metadata": {},
   "source": [
    "**2.4** Testez aussi le filtre moyenneur sur l'image bruitée. Quel de deux filtres (médian ou moyenneur) vous semble plus adapté à ce type de bruit ?"
   ]
  },
  {
   "cell_type": "code",
   "execution_count": 17,
   "id": "2ac03062",
   "metadata": {},
   "outputs": [],
   "source": [
    "# À compléter..."
   ]
  },
  {
   "cell_type": "markdown",
   "id": "71759013-cafe-46d4-b360-ac15e5a2c5e0",
   "metadata": {},
   "source": [
    "## 3 Détection de contours\n",
    "\n",
    "Comme vu en cours, les matrices de convolution s'avèrent utiles dans le floutage/réduction de bruits d'une image d'entrée (_e.g._ filtres Gaussien et Moyenneur), ainsi que dans la détection de contours. Dans tous les cas, l'algorithme de convolution reste même, ce qui change est seulement la matrice de convolution (ou _kernel_).\n",
    "\n",
    "En utilisant les opérateurs de _Roberts_, _Prewitt_ et _Sobel_, le principe est le suivant :\n",
    "\n",
    "1. Calcul du gradient en X de l'image par convolution : $G_x = I \\star h_x$ \n",
    "2. Calcul du gradient en Y de l'image par convolution : $G_y = I \\star h_y$\n",
    "3. Calcul du module du gradient (c.-à-d. la combinaison des contours verticaux et horizontaux) : ```moduleGradient``` = $\\sqrt{G_x^2 + G_y^2}$\n",
    "\n",
    "Pour chacun de ces trois opérateurs, les matrices de convolution $h_x$ et $h_y$ sont définies comme :\n",
    "\n",
    "**Roberts3**\n",
    "\n",
    "\\begin{equation}\n",
    "h_x =\n",
    "\\begin{bmatrix}\n",
    "0 & 0 & 0\\\\\n",
    "-1 & 0 & 1\\\\\n",
    "0 & 0 & 0\\\\\n",
    "\\end{bmatrix}\n",
    "\\hspace{1.0cm}h_y = \n",
    "\\begin{bmatrix}\n",
    "0 & -1 & 0\\\\\n",
    "0 & 0 & 0\\\\\n",
    "0 & 1 & 0\\\\\n",
    "\\end{bmatrix}\n",
    "\\end{equation}\n",
    "\n",
    "**Prewitt**\n",
    "\n",
    "\\begin{equation}\n",
    "h_x =\n",
    "\\begin{bmatrix}\n",
    "-1 & 0 & 1\\\\\n",
    "-1 & 0 & 1\\\\\n",
    "-1 & 0 & 1\\\\\n",
    "\\end{bmatrix}\n",
    "\\hspace{1.0cm}h_y = \n",
    "\\begin{bmatrix}\n",
    "-1 & -1 & -1\\\\\n",
    "0 & 0 & 0\\\\\n",
    "1 & 1 & 1\\\\\n",
    "\\end{bmatrix}\n",
    "\\end{equation}\n",
    "\n",
    "**Sobel**\n",
    "\n",
    "\\begin{equation}\n",
    "h_x =\n",
    "\\begin{bmatrix}\n",
    "-1 & 0 & 1\\\\\n",
    "-2 & 0 & 2\\\\\n",
    "-1 & 0 & 1\\\\\n",
    "\\end{bmatrix}\n",
    "\\hspace{1.0cm}h_y = \n",
    "\\begin{bmatrix}\n",
    "-1 & -2 & -1\\\\\n",
    "0 & 0 & 0\\\\\n",
    "1 & 2 & 1\\\\\n",
    "\\end{bmatrix}\n",
    "\\end{equation}"
   ]
  },
  {
   "cell_type": "markdown",
   "id": "06178b8a-ce34-4627-813a-b9ea60e5ce6a",
   "metadata": {},
   "source": [
    "**3.1** À l'aide de ```cv.filter2D```, implémentez les détecteurs de contours de _Roberts_, _Prewitt_ et _Sobel_. Faites en sorte que les matrices résultantes aient des valeurs normalisées entre ```0``` et ```255```.\n",
    "\n",
    "**Rappel**\n",
    "- Étant donné un _numpy array_ ```M```, ```M**2``` calcule le carré de chaque élément de ```M```\n",
    "- La fonction ```np.sqrt(M)``` calcule la racine carrée de chaque élément de ```M```\n",
    "- Pour normaliser une matrice ```M``` (valeurs entre ```0``` et ```255```) : ```(M - np.min(M))/(np.max(M)-np.min(M)) * 255``` "
   ]
  },
  {
   "cell_type": "code",
   "execution_count": 3,
   "id": "4dac1cd2-e4d3-4d07-a800-9ac9f74e416d",
   "metadata": {},
   "outputs": [],
   "source": [
    "# Dans les quatre fonctions ci-dessous, 'img' est la representation matriciele d'une image en niveau de gris\n",
    "# Par exemple, étant donné une image \"test.png\", on l'obtient de la façon suivante :\n",
    "# img = cv.imread(\"test.png\", 0)\n",
    "# La sortie 'moduleGradient' de chaque fonction est une nouvelle matrice de même dimension que 'img' contenant le résultat de la\n",
    "# detection des contours de 'img'.\n",
    "\n",
    "def roberts(img):\n",
    "    moduleGradient = ...\n",
    "    # A compléter...\n",
    "    return moduleGradient.astype(\"uint8\")\n",
    "\n",
    "def prewitt(img):\n",
    "    moduleGradient = ...\n",
    "    # A compléter...\n",
    "    return moduleGradient.astype(\"uint8\")\n",
    "\n",
    "def sobel(img):\n",
    "    moduleGradient = ...\n",
    "    # A compléter...\n",
    "    return moduleGradient.astype(\"uint8\")"
   ]
  },
  {
   "cell_type": "markdown",
   "id": "c3543394-b176-41ff-b019-760e505d95a6",
   "metadata": {},
   "source": [
    "**3.2** Testez ces trois fonctions sur l'image _canvas_gris.png_ ou sur une image de votre choix, et affichez le résultat à l'aide de la fonction ```plt.imshow(C, cmap='gray')```, où ```C``` doit être remplacé par la sortie de chaque fonction."
   ]
  },
  {
   "cell_type": "code",
   "execution_count": null,
   "id": "80609557-9fc1-4adb-af2b-22df6c89383a",
   "metadata": {},
   "outputs": [],
   "source": [
    "# À compléter..."
   ]
  },
  {
   "cell_type": "markdown",
   "id": "08d51e8e-1c9a-4c27-9b9b-f9d7cdfbcd1b",
   "metadata": {},
   "source": [
    "**3.3** Les fonctions ```roberts```, ```prewitt``` et ```sobel``` renvoient des images en niveau de gris tel que la valeur d'un pixel est proportionnelle à la probabilité qu'il appartienne à un contour. À l'aide d'un seuillage binaire, calculez et affichez des images binaires (1 pour les pixels appartenant à un contour, 0 sinon) à partir des sorties des fonctions ```roberts```, ```prewitt``` et ```sobel```.\n",
    "\n",
    "**Rappel** : ```seuil,contours = cv.threshold(moduleGradient,seuil,255,cv.THRESH_BINARY)```."
   ]
  },
  {
   "cell_type": "code",
   "execution_count": 16,
   "id": "bf9a25b3-bb08-4c04-ade5-a8379660b145",
   "metadata": {},
   "outputs": [],
   "source": [
    "# À compléter..."
   ]
  },
  {
   "cell_type": "markdown",
   "id": "a58d315b-a88c-40df-b867-274a568ae3e0",
   "metadata": {},
   "source": [
    "**3.4** Testez ces trois détecteurs de contours sur l’image _bateaux_nb_bruite.bmp_. Comment peut-on améliorer la détection de contours sur cette image ?"
   ]
  },
  {
   "cell_type": "code",
   "execution_count": 25,
   "id": "6d08efeb-c115-4ec2-9fab-2bed56af75ec",
   "metadata": {},
   "outputs": [],
   "source": [
    "# À compléter..."
   ]
  }
 ],
 "metadata": {
  "kernelspec": {
   "display_name": "Python 3",
   "language": "python",
   "name": "python3"
  },
  "language_info": {
   "codemirror_mode": {
    "name": "ipython",
    "version": 3
   },
   "file_extension": ".py",
   "mimetype": "text/x-python",
   "name": "python",
   "nbconvert_exporter": "python",
   "pygments_lexer": "ipython3",
   "version": "3.12.3"
  }
 },
 "nbformat": 4,
 "nbformat_minor": 5
}
