{
 "cells": [
  {
   "cell_type": "markdown",
   "id": "1766d231-1e5d-45c4-865c-a64eb553e461",
   "metadata": {},
   "source": [
    "# TP1 : Histogramme et seuillage\n",
    "\n",
    "Objectifs :\n",
    "\n",
    "* Étudier la notion d’histogramme\n",
    "* Extraire des caractéristiques (brillance, contraste…,) de l’image à partir de son histogramme\n",
    "* Binariser une image par seuillage (manuel et automatique) de son histogramme\n",
    "* Améliorer l’image par application de transformation sur son histogramme (étirement et égalisation)\n",
    "* Mise en œuvre avec Python\n",
    "\n",
    "Dans ce TP, nous allons travailler seulement avec des images en niveaux de gris où chaque niveau de gris est codé sur 1 octet. Il y a donc 256 niveaux de gris accessibles..."
   ]
  },
  {
   "cell_type": "markdown",
   "id": "224f7be1-5dfa-474d-87e5-1717ea50ddde",
   "metadata": {},
   "source": [
    "## Import des modules de base\n",
    "\n",
    "Exécutez la cellule suivante afin d'importer les modules **Numpy**, **Matplotlib** et **OpenCV**. Cette cellule doit être exécutée à chaque fois que vous réinitialisez le _kernel_."
   ]
  },
  {
   "cell_type": "code",
   "execution_count": 1,
   "id": "ad2a2084-3e82-4bc4-b166-3b15591cf602",
   "metadata": {},
   "outputs": [],
   "source": [
    "import numpy as np\n",
    "import matplotlib.pyplot as plt\n",
    "import cv2 as cv"
   ]
  },
  {
   "cell_type": "markdown",
   "id": "b52ecdf2-6e7e-4877-99c7-283a1fc3dc60",
   "metadata": {},
   "source": [
    "## 1 Histogramme\n",
    "\n",
    "L’histogramme d’une image indique le nombre de pixels existant pour chaque valeur. Calculer l’histogramme de l’image en niveaux de gris, c’est, en d’autres termes, compter combien il y a de pixels pour chaque nuance de gris."
   ]
  },
  {
   "cell_type": "markdown",
   "id": "f7be08da-9804-48fb-aaf7-d273b89364eb",
   "metadata": {},
   "source": [
    "**1.1** Complétez la fonction ```histogramme``` qui calcule, dans un vecteur de taille 256, l’histogramme d’une image en niveaux de gris ($n \\in [0...255]$).\n",
    "Quelques fonctions qui pourraient être utiles :\n",
    "* _imread_ de **OpenCV** pour lire l’image,\n",
    "* _zeros_ de **Numpy** pour initialiser à 0 le vecteur,\n",
    "* _shape_ pour obtenir le nombre de lignes et de colonnes de l’image."
   ]
  },
  {
   "cell_type": "code",
   "execution_count": 2,
   "id": "a23ef044-54b8-49bf-bf61-0da19b282111",
   "metadata": {},
   "outputs": [],
   "source": [
    "def histogramme(img):\n",
    "    # A compléter...    \n",
    "    return 0 # à remplacer par le vecteur contenant l'histogramme"
   ]
  },
  {
   "cell_type": "markdown",
   "id": "31cc9a02-8ae7-44da-9f39-15d75480772b",
   "metadata": {},
   "source": [
    "**1.2** Testez votre fonction sur les images _cellules.png_ et _irmCerveau.png_ affichées ci-dessous (téléchargées à partir de Moodle dans le même répertoire que ce notebook). \n",
    "Attention, même si visuellement les images ne semblent pas en couleur, elles peuvent être sur 3 canaux. Après avoir lu l’image en utilisant _cv.imread_, vérifiez que la variable est bien en 2 dimensions à l’aide de _shape_. Si non (3 dimensions), alors pour importer une image couleur en niveau de gris, il faut ajouter le paramètre _0_ dans la fonction _imread_ d’_opencv2_ : ```irm=cv.imread(\"irmCerveau.png\",0)```\n",
    "\n",
    "![Image](cellules.png) ![Image](irmCerveau.png)"
   ]
  },
  {
   "cell_type": "code",
   "execution_count": 3,
   "id": "67085c07-d6b8-4246-830d-a6c082f6b499",
   "metadata": {},
   "outputs": [],
   "source": [
    "# Chargez les images cellules.png et irmCerveau.png\n",
    "\n",
    "# A compléter...\n",
    "\n",
    "# Testez les fonction histogramme sur ces deux images\n",
    "\n",
    "# A compléter..."
   ]
  },
  {
   "cell_type": "markdown",
   "id": "eb03f36c-7b15-4a8b-aa50-b5bb095d20e0",
   "metadata": {},
   "source": [
    "**1.3** Affichez les histogrammes des deux images (fonction utile : _plot_ de _matplotlib.pyplot_). Commentez."
   ]
  },
  {
   "cell_type": "code",
   "execution_count": 4,
   "id": "88437999-727b-40e1-a73b-379abfb5843a",
   "metadata": {},
   "outputs": [],
   "source": [
    "# Affichez les histogrammes\n",
    "\n",
    "# A compléter..."
   ]
  },
  {
   "cell_type": "markdown",
   "id": "eb4685bd-0be4-44c3-8424-0ffc191c44cb",
   "metadata": {},
   "source": [
    "## 2 Histogramme cumulé\n",
    "\n",
    "Le principe de l’histogramme cumulé (pas vu en amphi) est le même que pour l’histogramme, si ce n’est que pour toute valeur de niveau de gris $n$, on calcule non pas le nombre de pixels de cette valeur dans l’image, mais on cumule le nombre de pixels de valeur inférieure ou égale $n$ dans l’image."
   ]
  },
  {
   "cell_type": "markdown",
   "id": "a231ac1c-26c1-4ab8-9c79-3c28c3337cb2",
   "metadata": {},
   "source": [
    "**2.1** Ecrivez une fonction ```histogrammeCumule``` qui calcule, dans un vecteur de taille 256, l’histogramme cumulé de l’image."
   ]
  },
  {
   "cell_type": "code",
   "execution_count": 5,
   "id": "41799afa-918f-437b-99f7-8f499985d5a3",
   "metadata": {},
   "outputs": [],
   "source": [
    "def histogrammeCumule(img):\n",
    "    # A completer...\n",
    "    return 0 # à remplacer par le vecteur contenant l'histogramme cumulé"
   ]
  },
  {
   "cell_type": "markdown",
   "id": "e8c39db8-70ef-45f9-b066-96b2ec4cc0d5",
   "metadata": {},
   "source": [
    "**2.2** Testez votre fonction sur les mêmes images que précédemment."
   ]
  },
  {
   "cell_type": "code",
   "execution_count": 6,
   "id": "fcd475c8-ca6e-4281-936b-4c0c88e9f3d8",
   "metadata": {},
   "outputs": [],
   "source": [
    "# A compléter..."
   ]
  },
  {
   "cell_type": "markdown",
   "id": "09e9cbfd-e200-4fa4-bb07-4debc25c0c14",
   "metadata": {},
   "source": [
    "**2.3** Trouvez le code permettant d'afficher les histogrammes cumulés. Vous devez obtenir des résultats similaires aux histogrammes ci-dessous.\n",
    "\n",
    "![Image](hist_cell_culm.png) ![Image](hist_cerveau_culm.png)"
   ]
  },
  {
   "cell_type": "code",
   "execution_count": 7,
   "id": "2f23657f-7533-4715-af30-87cf1a481bc1",
   "metadata": {},
   "outputs": [],
   "source": [
    "# A compléter..."
   ]
  },
  {
   "cell_type": "markdown",
   "id": "6a5c6e24-7533-4f2a-a043-2e2b78c3b60d",
   "metadata": {},
   "source": [
    "## 3 Seuillage manuel\n",
    "\n",
    "Le seuillage d’image est une technique simple de binarisation d’image. Elle consiste à transformer une image en niveau de gris en une image dont les valeurs de pixels ne peuvent avoir que la valeur 0 ou 1. On parle alors d’une image binaire ou image en noir et blanc.\n",
    "Pour cela, le seuillage d’image remplace un à un les pixels d’une image à l’aide d’une valeur de seuil fixée. Ainsi, si un pixel a une valeur supérieure ou égale au seuil, il prendra la valeur 255 (blanc), et si sa valeur est inférieure, il prendra la valeur 0 (noir).\n",
    "\n",
    "$$imageBinaire(i,j) = \n",
    "\\begin{cases}\n",
    "255\\ si\\ image(i, j) \\geq seuil \\\\\n",
    "0\\ sinon\\\\\n",
    "\\end{cases}\n",
    "$$"
   ]
  },
  {
   "cell_type": "markdown",
   "id": "fd773a3d-e3ee-4bdb-bda9-be0cb88f2df1",
   "metadata": {},
   "source": [
    "**3.1** Ouvrez l’image _cellules.png_."
   ]
  },
  {
   "cell_type": "code",
   "execution_count": 8,
   "id": "d36e0871-b957-4f18-aa3d-85bdc84a05c0",
   "metadata": {},
   "outputs": [],
   "source": [
    "# A compléter..."
   ]
  },
  {
   "cell_type": "markdown",
   "id": "f27ee615-4037-418c-a3f6-111b8be51719",
   "metadata": {},
   "source": [
    "**3.2** À l’aide de la fonction écrite précédemment, calculez et affichez l’histogramme de l’image."
   ]
  },
  {
   "cell_type": "code",
   "execution_count": 9,
   "id": "bbec6482-25c2-4af5-b4e6-16674e5b5840",
   "metadata": {},
   "outputs": [],
   "source": [
    "# A compléter..."
   ]
  },
  {
   "cell_type": "markdown",
   "id": "6354b246-bc06-4cfd-8afe-11ccfc3e59b8",
   "metadata": {},
   "source": [
    "**3.3** Identifiez manuellement le seuil à appliquer pour extraire les noyaux du fond."
   ]
  },
  {
   "cell_type": "code",
   "execution_count": 10,
   "id": "b8b99415-b122-417a-9992-05324b11a1d1",
   "metadata": {},
   "outputs": [],
   "source": [
    "# A compléter..."
   ]
  },
  {
   "cell_type": "markdown",
   "id": "80aa58e7-29bf-4365-b8bc-5d8f6c12ff14",
   "metadata": {},
   "source": [
    "**3.4** Réalisez le seuillage à l’aide de _seuil,output=cv.threshold(image,seuil,255,cv.THRESH_BINARY)_."
   ]
  },
  {
   "cell_type": "code",
   "execution_count": 11,
   "id": "84f4c6ca-49f8-400c-a04e-2e829799e5f6",
   "metadata": {},
   "outputs": [],
   "source": [
    "# A compléter..."
   ]
  },
  {
   "cell_type": "markdown",
   "id": "048e996e-b70e-4382-b34d-afe01a285d9d",
   "metadata": {},
   "source": [
    "**3.5** Vérifiez, en visualisant l’image obtenue, que le résultat est satisfaisant."
   ]
  },
  {
   "cell_type": "code",
   "execution_count": 12,
   "id": "100dc90e-4648-4db4-bb3d-dd0a7da02009",
   "metadata": {},
   "outputs": [],
   "source": [
    "# A compléter..."
   ]
  },
  {
   "cell_type": "markdown",
   "id": "c322e176-5a78-48a2-97c8-4eadff361994",
   "metadata": {},
   "source": [
    "## 4 Recadrage dynamique / Étirement d’histogramme\n",
    "\n",
    "Plus la dynamique d’une image est étalée, meilleure est la qualité de l’image. Il est alors possible de modifier\n",
    "cette dynamique en utilisant la transformation suivante :\n",
    "\n",
    "$S(n) = round(M\\frac{(n-a)}{(b-a)})$\n",
    "\n",
    "où $n$ est le niveau de gris de l’image d’entrée, $a$ et $b$ sont les limites respectivement inférieure et supérieure de l’histogramme de l’image d’entrée, $M$ représente l’amplitude de l’image d’arrivée, _i.e._ la dynamique souhaitée (en général $255$) et $round$ est la fonction qui arrondit au plus proche. Cette fonction est indispensable puisque nous travaillons dans un espace discret avec un nombre limité de niveaux de gris.\n",
    "\n",
    "**Plus précisement, pour chaque pixel d'intensité $n$ de l'image originale, son niveau de gris deviendra $S(n)$ dans l'image résultante.**"
   ]
  },
  {
   "cell_type": "markdown",
   "id": "2dad5b53-8e41-47ed-a7e6-c2865107d43d",
   "metadata": {},
   "source": [
    "**4.1** Lisez l’image ’evasion.png’ (affichée ci-dessous). À l’aide de la fonction écrite précédemment, calculez et affichez l’histogramme de l’image.\n",
    "\n",
    "![Image](evasion.png)"
   ]
  },
  {
   "cell_type": "code",
   "execution_count": 13,
   "id": "a2fe8f6f-7ea3-4939-91b9-562502a5c4ef",
   "metadata": {},
   "outputs": [],
   "source": [
    "# A completer..."
   ]
  },
  {
   "cell_type": "markdown",
   "id": "48e0bfe4-30c3-424c-b5f3-7665b8a96133",
   "metadata": {},
   "source": [
    "**4.2** Modifiez sa dynamique en utilisant la transformation de recadrage dynamique (rappelée ci-dessus) afin d’obtenir une image plus contrastée (étirement de l’histogramme)."
   ]
  },
  {
   "cell_type": "code",
   "execution_count": 14,
   "id": "a83e4167-8fb6-4e1a-83ed-6e51173cdd2d",
   "metadata": {},
   "outputs": [],
   "source": [
    "# A completer..."
   ]
  },
  {
   "cell_type": "markdown",
   "id": "6f090b10-ae14-4c4a-84d3-0f42a6b27fbc",
   "metadata": {},
   "source": [
    "**4.3** Comparer les histogrammes ainsi que les valeurs moyennes et les écarts-types initiaux et finaux."
   ]
  },
  {
   "cell_type": "code",
   "execution_count": 15,
   "id": "cc45f8f2-2e82-48ae-b824-e856310327ae",
   "metadata": {},
   "outputs": [],
   "source": [
    "# A completer..."
   ]
  },
  {
   "cell_type": "markdown",
   "id": "e4e6c7b3-2664-43f4-a83a-d96ce2ef7695",
   "metadata": {},
   "source": [
    "## 5 Égalisation d’histogramme\n",
    "\n",
    "L’égalisation d’histogramme consiste à corriger une image qui manque de contraste : ses couleurs, ou ses niveaux de gris, se concentrent sur seulement quelques valeurs.\n",
    "\n",
    "Cette transformation va faire une conversion de couleurs :\n",
    "- afin d’utiliser toute l’étendue des niveaux ;\n",
    "- afin d’avoir (à peu près) autant de pixels de chaque niveau.\n",
    "\n",
    "Le principe de l’égalisation d’histogramme est d’utiliser l’histogramme cumulé de l’image comme une table de conversions des niveaux de gris. Pour cela, on normalise les valeurs de l’histogramme cumulé pour les ramener entre 0 et 255.\n",
    "L’idée de la conversion est alors la suivante :\n",
    "- Tous les faibles niveaux inutilisés dans l’image (de 0 à 120 environ dans l’exemple ci-dessous) seront ramenés\n",
    "à 0 ;\n",
    "- Tous les hauts niveaux inutilisés (d’environ 200 à 255 dans l’exemple ci-dessous) seront ramenés à 255 ;\n",
    "- Les seuls niveaux utilisés seront étalés entre 0 et 255 suivant la progression de l’histogramme cumulé (tout un niveau étant déplacé vers un nouveau niveau, ce qui intercalera des ”trous” de niveaux non utilisés dans l’image finale).\n",
    "\n",
    "En pratique, étant donné une image $I$, il suffit d'implémenter les opérations suivantes :\n",
    "\n",
    "$HC_{norm}[n] = round((\\frac{HC[n]}{max(HC)}) \\times 255)$ pour tous les niveaux de gris $n$ dans l'intervalle $[0,255]$\n",
    "\n",
    "$I_{egalisee}[i,j] = HC_{norm}[I[i,j]]$\n",
    "\n",
    "Où $HC$ représente l'histogramme cumulé de l'image $I$, et $I_{egalisee}[i,j]$ correspond au niveau de gris du pixel dans la ligne $i$ et colonne $j$ de l'image résultante.\n",
    "\n",
    "Exemple :\n",
    "\n",
    "![Image](bay.png) ![Image](bay_hist.png)\n",
    "\n",
    "**Gauche** : Hawke’s Bay : image peu contrastée ; **Droite** : Histogramme correspondant (en rouge) et\n",
    "histogramme cumulé (en noir et normalisé en échelle pour l’affichage)\n",
    "\n",
    "![Image](bay_egalisee.png) ![Image](bay_egalisee_hist.png)\n",
    "\n",
    "**Gauche** : image mieux contrastée grâce à l’égalisation de son histogramme ; **Droite** : Le nouvel histogramme\n",
    "correspondant (en rouge, démontrant l’utilisation de toute l’étendue de la dynamique des niveaux du noir au blanc),\n",
    "ainsi que l’histogramme cumulé (en noir, démontrant la répartition plus régulière)"
   ]
  },
  {
   "cell_type": "markdown",
   "id": "48a60d3c-2ab2-41ab-a73a-fb40d05a3645",
   "metadata": {},
   "source": [
    "**5.1** Écrivez une fonction ```egalisationHistogramme``` qui met en œuvre le principe précédent pour égaliser l’histogramme d’une image en niveaux de gris afin d’en améliorer le contraste."
   ]
  },
  {
   "cell_type": "code",
   "execution_count": 20,
   "id": "291a3d33-b399-4bae-b88e-1a029da91787",
   "metadata": {},
   "outputs": [],
   "source": [
    "def egalisationHistogramme(img):\n",
    "  # Calculer l'histogramme de l'image\n",
    "  hist = histogramme(img)\n",
    "  \n",
    "  # Calculer l'histogramme cumulé\n",
    "  hist_cumule = histogrammeCumule(img)\n",
    "  \n",
    "  # Normaliser l'histogramme cumulé\n",
    "  hist_cumule_normalise = np.round((hist_cumule / hist_cumule.max()) * 255).astype(np.uint8)\n",
    "  \n",
    "  # Appliquer la transformation à l'image\n",
    "  img_egalisee = hist_cumule_normalise[img]\n",
    "  \n",
    "  return img_egalisee"
   ]
  },
  {
   "cell_type": "markdown",
   "id": "ff42fe98-b134-4faf-86f7-a5310d71a5bf",
   "metadata": {},
   "source": [
    "**5.2** Testez votre fonction sur l'image \"bay.png\". Vérifiez que l'image résultante, ainsi que son histogramme et son histogramme cumulé, correspondent aux figures affichées ci-dessus."
   ]
  },
  {
   "cell_type": "code",
   "execution_count": 17,
   "id": "a0a46bd9-bf1e-470b-9db7-f235ac1587e1",
   "metadata": {},
   "outputs": [],
   "source": [
    "# Charger l'image bay.png en niveaux de gris\n",
    "bay_img = cv.imread('bay.png', 0)\n",
    "\n",
    "# Appliquer l'égalisation d'histogramme\n",
    "bay_img_egalisee = egalisationHistogramme(bay_img)\n",
    "\n",
    "# Afficher l'image originale et l'image égalisée\n",
    "plt.figure(figsize=(12, 6))\n",
    "plt.subplot(1, 2, 1)\n",
    "plt.title('Image originale')\n",
    "plt.imshow(bay_img, cmap='gray')\n",
    "plt.subplot(1, 2, 2)\n",
    "plt.title('Image égalisée')\n",
    "plt.imshow(bay_img_egalisee, cmap='gray')\n",
    "plt.show()\n",
    "\n",
    "# Calculer et afficher les histogrammes\n",
    "plt.figure(figsize=(12, 6))\n",
    "plt.subplot(1, 2, 1)\n",
    "plt.title('Histogramme original')\n",
    "plt.hist(bay_img.ravel(), bins=256, range=(0, 256), color='red', alpha=0.5)\n",
    "plt.subplot(1, 2, 2)\n",
    "plt.title('Histogramme égalisé')\n",
    "plt.hist(bay_img_egalisee.ravel(), bins=256, range=(0, 256), color='red', alpha=0.5)\n",
    "plt.show()\n",
    "\n",
    "# Calculer et afficher les histogrammes cumulés\n",
    "plt.figure(figsize=(12, 6))\n",
    "plt.subplot(1, 2, 1)\n",
    "plt.title('Histogramme cumulé original')\n",
    "plt.plot(histogrammeCumule(bay_img), color='black')\n",
    "plt.subplot(1, 2, 2)\n",
    "plt.title('Histogramme cumulé égalisé')\n",
    "plt.plot(histogrammeCumule(bay_img_egalisee), color='black')\n",
    "plt.show()\n",
    "\n",
    "# Afficher l'image originale et l'image égalisée\n",
    "plt.figure(figsize=(12, 6))\n",
    "plt.subplot(1, 2, 1)\n",
    "plt.title('Image originale')\n",
    "plt.imshow(bay_img, cmap='gray')\n",
    "plt.subplot(1, 2, 2)\n",
    "plt.title('Image égalisée')\n",
    "plt.imshow(bay_img_egalisee, cmap='gray')\n",
    "plt.show()\n"
   ]
  },
  {
   "cell_type": "markdown",
   "id": "cec9338f-b3de-414c-a2cd-7e3875fddd64",
   "metadata": {},
   "source": [
    "**5.2** Ouvrez l’image ’pneu.png’. Vérifiez que son histogramme est resserré dans les valeurs faibles. Calculez et affichez l’histogramme cumulé de cette image. Appliquer un recadrage dynamique par étirement d’histogramme (comme vu précédemment sur l’image evasion.png) a-t-il un sens pour cette image pneu ? Pourquoi ?"
   ]
  },
  {
   "cell_type": "code",
   "execution_count": 18,
   "id": "2fb156bc-c636-4890-88bb-ed8c90ff18c8",
   "metadata": {},
   "outputs": [],
   "source": [
    "# A completer"
   ]
  },
  {
   "cell_type": "markdown",
   "id": "d2f87915-548a-4ae6-97e2-4f697e7dbb36",
   "metadata": {},
   "source": [
    "**5.3** À l’aide de la fonction ```egalisationHistogramme``` écrite auparavant, transformez l’image en une image équivalente, mais ayant un histogramme égalisé. Comparez les histogrammes et histogrammes cumulés initiaux et finaux."
   ]
  },
  {
   "cell_type": "code",
   "execution_count": 19,
   "id": "4f53df92-cc98-4862-8099-39e30e9b6e81",
   "metadata": {},
   "outputs": [],
   "source": [
    "# A completer"
   ]
  }
 ],
 "metadata": {
  "kernelspec": {
   "display_name": "Python 3",
   "language": "python",
   "name": "python3"
  },
  "language_info": {
   "codemirror_mode": {
    "name": "ipython",
    "version": 3
   },
   "file_extension": ".py",
   "mimetype": "text/x-python",
   "name": "python",
   "nbconvert_exporter": "python",
   "pygments_lexer": "ipython3",
   "version": "3.12.3"
  }
 },
 "nbformat": 4,
 "nbformat_minor": 5
}
