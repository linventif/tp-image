{
 "cells": [
  {
   "cell_type": "markdown",
   "id": "cb9f48f0-8fe4-40f8-8f79-f2ba8c3072c9",
   "metadata": {},
   "source": [
    "# Révision\n",
    "\n",
    "Dans les cours et TPs précédents, vous avez étudié des algorithmes de base du traitement d'images en couleurs et en niveaux de gris. Notamment, nous avons vu les notions suivantes :\n",
    "\n",
    "- Représentation d'images en niveaux de gris et RGB sous forme de tableaux de deux et de trois dimensions\n",
    "- Histogrammes d'images en niveaux de gris\n",
    "- Convolution et _padding_\n",
    "- Floutage et détection de bords en utilisant des convolutions (filtres linéaires) et la médiane (filtre d'ordre / non-linéaire)\n",
    "- Seuillage binaire\n",
    "- Recadrage dynamique et égalisation d'histogramme\n",
    "\n",
    "Dans les TPs précédents, vous avez implémenté certains de ces algorithmes à la main afin de mieux comprendre leur fonctionnement et complexité. Dans ce TP de révision et dans l'évaluation qui suit, vous pouvez utiliser vos propres implémentations de chacune de ces fonctions, ou bien utiliser les fonctions fournies par les librairies **OpenCV** et **Numpy**. "
   ]
  },
  {
   "cell_type": "markdown",
   "id": "58946f4d-e312-4521-ab5a-f37f8294e05a",
   "metadata": {},
   "source": [
    "### Import des modules et fonctions de base"
   ]
  },
  {
   "cell_type": "code",
   "execution_count": 1,
   "id": "30ea6c19-7377-4522-908c-d4a49d3c6891",
   "metadata": {},
   "outputs": [],
   "source": [
    "import numpy as np\n",
    "import matplotlib.pyplot as plt\n",
    "import cv2 as cv\n",
    "\n",
    "# Operateurs implémentés dans les TPs 1, 2 et 3\n",
    "\n",
    "def moyenneur(img, taille_filtre):\n",
    "    return cv.blur(img,(taille_filtre,taille_filtre),borderType=cv.BORDER_CONSTANT)\n",
    "\n",
    "def sobel(img):\n",
    "    Gx = cv.Sobel(img, cv.CV_64F, 1, 0, ksize=3)\n",
    "    Gy = cv.Sobel(img, cv.CV_64F, 0, 1, ksize=3)\n",
    "\n",
    "    moduleGradient = np.sqrt(Gx**2 + Gy**2)\n",
    "    gradientNormalise = 255*(moduleGradient - np.min(moduleGradient))/(np.max(moduleGradient) - np.min(moduleGradient))\n",
    "\n",
    "    return gradientNormalise\n",
    "\n",
    "def histogramme(img):\n",
    "    hist = np.zeros(256)\n",
    "    for i in range(img.shape[0]):\n",
    "        for j in range(img.shape[1]):\n",
    "            hist[img[i][j]] += 1\n",
    "    return hist \n",
    "    \n",
    "def histogrammeCumule(img):\n",
    "    hist = histogramme(img)\n",
    "    for k in range(1,256):\n",
    "        hist[k] += hist[k-1]\n",
    "    return hist  \n",
    "\n",
    "def normalisation(img):\n",
    "    resultat = np.round(255*((img-np.min(img))/(np.max(img)-np.min(img))))\n",
    "    return resultat.astype('uint8')\n",
    "    \n",
    "def egalisation(img):\n",
    "    min = np.min(img)\n",
    "    max = np.max(img)\n",
    "    hist_cum = histogrammeCumule(img)\n",
    "    hist_cum_normalise = hist_cum/(np.max(hist_cum))*255\n",
    "    img_egalisee = img\n",
    "    for i in range(img.shape[0]):\n",
    "        for j in range(img.shape[1]):\n",
    "            img_egalisee[i,j] = hist_cum_normalise[img_egalisee[i,j]]\n",
    "    return img_egalisee"
   ]
  },
  {
   "cell_type": "markdown",
   "id": "afeb8cf8-b907-43d7-a42d-2cf1799f4d7c",
   "metadata": {},
   "source": [
    "### Rappel des fonctions de base\n",
    "\n",
    "```image = cv.imread(\"test.png\")``` $\\rightarrow$ charge une image RVB sous forme d'un tableau à trois dimensions (bleu, vert et rouge)\n",
    "\n",
    "Notez que ```image[:,:,0]``` correspond à la composante Bleu, ```image[:,:,1]``` correspond à la composante Verte, et ```image[:,:,2]``` correspond à la composante Rouge.\n",
    "\n",
    "```image_gris = cv.imread(\"test.png\",0)``` $\\rightarrow$ charge \"test.png\" comme une image en niveau de gris (matrice/tableau à deux dimensions)\n",
    "\n",
    "```image = image[:,:,::-1]``` $\\rightarrow$ inverse la première et la troisième composante de l'image (après cette opération, ```image[:,:,0]``` correspond à la composante Rouge et ```image[:,:,2]``` correspond à la composante Bleu)\n",
    "\n",
    "```tab = np.zeros(shape=(10,10,3))```  $\\rightarrow$ crée un tableau de zéros de dimension $10 \\times 10 \\times 3$\n",
    "\n",
    "```_,imgBlancNoir = cv.threshold(image_gris,seuil,255,cv.THRESH_BINARY)``` $\\rightarrow$ calcule le seuillage binaire de l'image ```image_gris``` : les pixels ayant un niveau de gris supérieur ou égal à ```seuil``` sont attribués à 255 (blanc) dans l'image résultante\n",
    "\n",
    "```image_median = cv.medianBlur(image_gris, 5)``` $\\rightarrow$ applique un filtre médian de taille 5x5 sur l'image d'entrée\n",
    "\n",
    "```plt.imshow(image)``` $\\rightarrow$ affiche une image en couleurs\n",
    "\n",
    "```plt.imshow(image_gris, cmap=\"gray\", vmin=0, vmax=255)``` $\\rightarrow$ affiche \"correctement\" une image en niveau de gris\n",
    "\n",
    "```hist = histogramme(image_gris)``` $\\rightarrow$ calcule l'histogramme d'une image en niveau de gris sous forme d'un tableau de taille 256\n",
    "\n",
    "```plt.plot(histogramme(img))``` $\\rightarrow$ affiche l'histogramme d'une image en utilisant la fonction definie ci-dessus\n",
    "\n",
    "Si plusieurs images/figures doivent être affichées dans une même cellule, ajoutez ```plt.show()``` après chaque ```plt.imshow(...)``` et chaque ```plt.plot(...)```"
   ]
  },
  {
   "cell_type": "markdown",
   "id": "429a31d9-b6ac-4103-bedf-748e4b3babec",
   "metadata": {},
   "source": [
    "## 1 Seuillage d'images RVB et en niveau de gris, histogrammes et filtres"
   ]
  },
  {
   "cell_type": "markdown",
   "id": "b0286254-1eca-48f7-baec-d28af0d01531",
   "metadata": {},
   "source": [
    "**Q1** Ouvre et affichez l'image en couleur _chat.png_."
   ]
  },
  {
   "cell_type": "code",
   "execution_count": 2,
   "id": "8cfec0c6-1ecd-409b-906b-785ff197575c",
   "metadata": {},
   "outputs": [],
   "source": [
    "# A completer..."
   ]
  },
  {
   "cell_type": "markdown",
   "id": "1e0d5de9-d9d3-449f-ab34-26b28ba7d32b",
   "metadata": {},
   "source": [
    "**Q2** Affichez les composantes R, G et B individuellement sous forme d'images en niveaux de gris."
   ]
  },
  {
   "cell_type": "code",
   "execution_count": 3,
   "id": "3fc9ee13-070c-4200-b754-265a4ca81442",
   "metadata": {},
   "outputs": [],
   "source": [
    "# A completer..."
   ]
  },
  {
   "cell_type": "markdown",
   "id": "5941fe58-7850-4f5e-8d26-06b2c01f8b01",
   "metadata": {},
   "source": [
    "**Q3** En utilisant la formule ```I_gris = 0.299 ∗ R + 0.587 ∗ G + 0.114 ∗ B```, convertissez l'image RGB en une image en niveau de gris (vous pouvez le faire avec ou sans utiliser des boucles)"
   ]
  },
  {
   "cell_type": "code",
   "execution_count": 4,
   "id": "5abb70e7-cc04-47df-b021-b739595e0f6f",
   "metadata": {},
   "outputs": [],
   "source": [
    "# A completer..."
   ]
  },
  {
   "cell_type": "markdown",
   "id": "60b17aee-a7d3-4e7d-8fbc-e907c2f2a1b7",
   "metadata": {},
   "source": [
    "**Q4** Calculez l'histogramme de l'image en niveau de gris résultante. Que peut-on conclure en regardant seulement son histogramme ? Est-ce une image sombre ou bien lumineuse ? Que peut-on dire concernant son niveau de contraste ?"
   ]
  },
  {
   "cell_type": "code",
   "execution_count": 5,
   "id": "afa1bbb1-0487-4ff4-8dbd-ddfe8fd7d488",
   "metadata": {},
   "outputs": [],
   "source": [
    "# A completer..."
   ]
  },
  {
   "cell_type": "markdown",
   "id": "87c0863d-b36a-41ee-a980-3af1567e064d",
   "metadata": {},
   "source": [
    "**Q5** Créez une nouvelle image ```I_gris_2``` de même dimension que ```I_gris``` où la valeur de chaque pixel est remplacée par la moitié de sa valeur originale plus 100 (afin de bien afficher l'image résultante, utilisez ```plt.imshow(I_gris_2, cmap=\"gray\", vmin=0, vmax=255)```). \n",
    "\n",
    "Que fait-il cette opération ? \n",
    "\n",
    "Comparez l'histogramme de cette nouvelle image avec celui de ```I_gris```."
   ]
  },
  {
   "cell_type": "code",
   "execution_count": 6,
   "id": "2f100686-23ec-4223-bd13-c57467008252",
   "metadata": {},
   "outputs": [],
   "source": [
    "# A completer..."
   ]
  },
  {
   "cell_type": "markdown",
   "id": "02dc148e-5fb8-4a0a-b637-feabc5c8b318",
   "metadata": {},
   "source": [
    "**Q6** Comment peut-on rétablir le niveau de contraste de l'image ```I_gris_2``` ? Testez les deux méthodes vues en cours."
   ]
  },
  {
   "cell_type": "code",
   "execution_count": 7,
   "id": "b8b97e76-3ef1-4dcf-951a-a34cf450b990",
   "metadata": {},
   "outputs": [],
   "source": [
    "# A completer..."
   ]
  },
  {
   "cell_type": "markdown",
   "id": "675d2c08-d462-4ada-baf4-ec062ea3ee4e",
   "metadata": {},
   "source": [
    "**Q7** À partir de l'image en niveau de gris, segmentez les yeux du chat en produisant une image binaire où seulement les pixels appartenant aux yeux sont blancs, et tous les autres sont en noir (notez que le résultat ne sera pas forcément parfait). \n",
    "\n",
    "Si la région devant être segmentée est plus sombre que le reste de l'image, vous pouvez utiliser son inverse, c.-à-d., ```255 - I_gris```."
   ]
  },
  {
   "cell_type": "code",
   "execution_count": 8,
   "id": "c8f1193d-2edd-4e02-aaf6-8398c42d8e49",
   "metadata": {},
   "outputs": [],
   "source": [
    "# A completer..."
   ]
  },
  {
   "cell_type": "markdown",
   "id": "911d4b7c-6c2b-401c-a74c-5964ac93e087",
   "metadata": {},
   "source": [
    "**Q8** Maintenant, faites le même, mais à partir des composantes rouge, verte et bleue de l'image originale (notez que le résultat ne sera pas forcément parfait)."
   ]
  },
  {
   "cell_type": "code",
   "execution_count": 9,
   "id": "cc90ab40-5975-4c08-8ce8-d6eccf984306",
   "metadata": {},
   "outputs": [],
   "source": [
    "# A completer..."
   ]
  },
  {
   "cell_type": "markdown",
   "id": "3739d825-9936-47cc-90e7-3dd7a35a16b7",
   "metadata": {},
   "source": [
    "**Q9** En suivant le même principe de la question précédente, segmentez les cerises dans l'image ```cerises.png```."
   ]
  },
  {
   "cell_type": "code",
   "execution_count": 10,
   "id": "3f0526f1-ed53-4e2f-89af-df0ddf6c9f07",
   "metadata": {},
   "outputs": [],
   "source": [
    "# A completer..."
   ]
  },
  {
   "cell_type": "markdown",
   "id": "7948890e-11e2-4d2f-bea6-759b5ff46c35",
   "metadata": {},
   "source": [
    "**Q10** À partir de l'image bruitée ```renard_bruit.png```, trouvez les opérations permettant d'obtenir des contours binaires comme affiché ci-dessous.\n",
    "\n",
    "![Image](renard_bruit.png) ![Image](renard_contours.png)"
   ]
  },
  {
   "cell_type": "code",
   "execution_count": 11,
   "id": "d58a5572-113e-42dd-a47f-876c2698a924",
   "metadata": {},
   "outputs": [],
   "source": [
    "# A completer..."
   ]
  }
 ],
 "metadata": {
  "kernelspec": {
   "display_name": "Python 3 (ipykernel)",
   "language": "python",
   "name": "python3"
  },
  "language_info": {
   "codemirror_mode": {
    "name": "ipython",
    "version": 3
   },
   "file_extension": ".py",
   "mimetype": "text/x-python",
   "name": "python",
   "nbconvert_exporter": "python",
   "pygments_lexer": "ipython3",
   "version": "3.9.2"
  }
 },
 "nbformat": 4,
 "nbformat_minor": 5
}
